{
 "cells": [
  {
   "cell_type": "markdown",
   "metadata": {
    "collapsed": true
   },
   "source": [
    "# Capstone Project - Moving to New York City"
   ]
  },
  {
   "cell_type": "markdown",
   "metadata": {},
   "source": [
    "### Data"
   ]
  },
  {
   "cell_type": "markdown",
   "metadata": {},
   "source": [
    "For Manhattan I use the data set from https://geo.nyu.edu/catalog/nyu_2451_34572 which contains all boroughs and neighborhoods of NYC as well as latitude and longitute of each neighborhood. As in the Lab, I use the data set provided on https://cocl.us/new_york_dataset.\n",
    "\n",
    "I use the geolocator to find the coordinates of Zurich Helvetiaplatz.\n",
    "\n",
    "To get data about the venues around Helvetiaplatz in Zurich as well as around all neighbourhoods in Manhattan, I use the Foursquare location data. Foursquare location data contains venues and their categories as well as coordinates."
   ]
  }
 ],
 "metadata": {
  "kernelspec": {
   "display_name": "Python 3.5",
   "language": "python",
   "name": "python3"
  },
  "language_info": {
   "codemirror_mode": {
    "name": "ipython",
    "version": 3
   },
   "file_extension": ".py",
   "mimetype": "text/x-python",
   "name": "python",
   "nbconvert_exporter": "python",
   "pygments_lexer": "ipython3",
   "version": "3.5.5"
  }
 },
 "nbformat": 4,
 "nbformat_minor": 1
}
